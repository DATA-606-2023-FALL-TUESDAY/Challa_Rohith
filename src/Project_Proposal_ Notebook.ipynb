{
 "cells": [
  {
   "cell_type": "code",
   "execution_count": 10,
   "id": "0e54ebc9",
   "metadata": {},
   "outputs": [
    {
     "name": "stdout",
     "output_type": "stream",
     "text": [
      "Data Size: 8.72 MB\n",
      "Data Shape: 3522 rows x 7 columns\n",
      "Each Row Represents: A course on Coursera\n",
      "\n",
      "Columns and their data types:\n",
      "\n",
      "<class 'pandas.core.frame.DataFrame'>\n",
      "RangeIndex: 3522 entries, 0 to 3521\n",
      "Data columns (total 7 columns):\n",
      " #   Column              Non-Null Count  Dtype \n",
      "---  ------              --------------  ----- \n",
      " 0   Course Name         3522 non-null   object\n",
      " 1   University          3522 non-null   object\n",
      " 2   Difficulty Level    3522 non-null   object\n",
      " 3   Course Rating       3522 non-null   object\n",
      " 4   Course URL          3522 non-null   object\n",
      " 5   Course Description  3522 non-null   object\n",
      " 6   Skills              3522 non-null   object\n",
      "dtypes: object(7)\n",
      "memory usage: 192.7+ KB\n",
      "None\n",
      "\n",
      "Target/Label Variable: User_Rating\n",
      "Feature/Predictor Columns : To be extracted from the existing columns (Course Name, Course Description, Course Rating)\n"
     ]
    }
   ],
   "source": [
    "import pandas as pd\n",
    "\n",
    "# Load the dataset\n",
    "df = pd.read_csv('Coursera.csv')\n",
    "\n",
    "# Data size in MB\n",
    "data_size = df.memory_usage(deep=True).sum() / (1024 ** 2)\n",
    "\n",
    "# Data shape\n",
    "data_shape = df.shape\n",
    "\n",
    "print(f\"Data Size: {data_size:.2f} MB\")\n",
    "print(f\"Data Shape: {data_shape[0]} rows x {data_shape[1]} columns\")\n",
    "print(f\"Each Row Represents: A course on Coursera\")\n",
    "print(\"\\nColumns and their data types:\\n\")\n",
    "print(df.info())\n",
    "print(f\"\\nTarget/Label Variable: {target_variable}\")\n",
    "print(f\"Feature/Predictor Columns : To be extracted from the existing columns (Course Name, Course Description, Course Rating)\")\n"
   ]
  },
  {
   "cell_type": "code",
   "execution_count": null,
   "id": "23560fef",
   "metadata": {},
   "outputs": [],
   "source": []
  },
  {
   "cell_type": "code",
   "execution_count": null,
   "id": "d31b7bf4",
   "metadata": {},
   "outputs": [],
   "source": [
    "## 3. Dataset Description\n",
    "Data Size: \n",
    "Data Shape: 3522 rows x 7 columns\n",
    "Each Row Represents: A course on Coursera\n",
    "\n",
    "Columns and their data types:\n",
    "\n",
    "<class 'pandas.core.frame.DataFrame'>\n",
    "RangeIndex: 3522 entries, 0 to 3521\n",
    "Data columns (total 7 columns):\n",
    " #   Column              Non-Null Count  Dtype \n",
    "---  ------              --------------  ----- \n",
    " 0   Course Name         3522 non-null   object\n",
    " 1   University          3522 non-null   object\n",
    " 2   Difficulty Level    3522 non-null   object\n",
    " 3   Course Rating       3522 non-null   object\n",
    " 4   Course URL          3522 non-null   object\n",
    " 5   Course Description  3522 non-null   object\n",
    " 6   Skills              3522 non-null   object\n",
    "dtypes: object(7)\n",
    "memory usage: 192.7+ KB\n",
    "None\n",
    "\n",
    "Target/Label Variable: User_Rating\n",
    "Feature/Predictor Columns : To be extracted from the existing columns (Course Name, Course Description, Course Rating)\n"
   ]
  }
 ],
 "metadata": {
  "kernelspec": {
   "display_name": "Python 3 (ipykernel)",
   "language": "python",
   "name": "python3"
  },
  "language_info": {
   "codemirror_mode": {
    "name": "ipython",
    "version": 3
   },
   "file_extension": ".py",
   "mimetype": "text/x-python",
   "name": "python",
   "nbconvert_exporter": "python",
   "pygments_lexer": "ipython3",
   "version": "3.9.12"
  }
 },
 "nbformat": 4,
 "nbformat_minor": 5
}
